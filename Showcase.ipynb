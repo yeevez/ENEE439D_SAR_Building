{
  "nbformat": 4,
  "nbformat_minor": 0,
  "metadata": {
    "colab": {
      "provenance": [],
      "machine_shape": "hm"
    },
    "kernelspec": {
      "name": "python3",
      "display_name": "Python 3"
    },
    "language_info": {
      "name": "python"
    },
    "gpuClass": "standard"
  },
  "cells": [
    {
      "cell_type": "code",
      "execution_count": null,
      "metadata": {
        "colab": {
          "base_uri": "https://localhost:8080/"
        },
        "id": "cPKlX_bE2TnB",
        "outputId": "7a4ac6f2-7a05-44b2-8ddb-621845efa0f3"
      },
      "outputs": [
        {
          "name": "stdout",
          "output_type": "stream",
          "text": [
            "Enter a random number between 0 and 24739: 14569\n"
          ]
        }
      ],
      "source": [
        "file_num = int(input('Enter a random number between 0 and 24739: '))"
      ]
    },
    {
      "cell_type": "code",
      "source": [
        "import sys\n",
        "import os\n",
        "import tensorflow as tf\n",
        "import cv2\n",
        "from google.colab.patches import cv2_imshow as show\n",
        "import numpy as np\n",
        "import tensorflow as tf\n",
        "from tensorflow import keras\n",
        "from keras import layers\n",
        "import keras.backend as K"
      ],
      "metadata": {
        "id": "nd0Hi-yD2yfd"
      },
      "execution_count": null,
      "outputs": []
    },
    {
      "cell_type": "code",
      "source": [
        "print(tf.__version__)"
      ],
      "metadata": {
        "colab": {
          "base_uri": "https://localhost:8080/"
        },
        "id": "UUeQWzRhpolp",
        "outputId": "191f9b77-61b1-4a8c-fd46-0343981ff70d"
      },
      "execution_count": null,
      "outputs": [
        {
          "output_type": "stream",
          "name": "stdout",
          "text": [
            "2.12.0\n"
          ]
        }
      ]
    },
    {
      "cell_type": "code",
      "source": [
        "print(keras.__version__)"
      ],
      "metadata": {
        "colab": {
          "base_uri": "https://localhost:8080/"
        },
        "id": "kpe3LX2Tp1Ow",
        "outputId": "9bc35d9b-b401-4a15-e5bd-86f87bb923cd"
      },
      "execution_count": null,
      "outputs": [
        {
          "output_type": "stream",
          "name": "stdout",
          "text": [
            "2.12.0\n"
          ]
        }
      ]
    },
    {
      "cell_type": "code",
      "source": [
        "import numpy as np\n",
        "import tensorflow as tf\n",
        "from tensorflow import keras\n",
        "from keras import backend as K\n",
        "from keras.layers import Input, Dense, GlobalAveragePooling1D, Reshape, Conv2D, concatenate\n",
        "import sys\n",
        "sys.path.append('/content/drive/MyDrive/439D PROJECT/swin transformer repo/keras-vision-transformer')\n",
        "\n",
        "from keras_vision_transformer import swin_layers\n",
        "from keras_vision_transformer import transformer_layers\n",
        "def swin_transformer_stack(X, stack_num, embed_dim, num_patch, num_heads, window_size, num_mlp, shift_window=True, name=''):\n",
        "\n",
        "    # Turn-off dropouts\n",
        "    mlp_drop_rate = 0 # Droupout after each MLP layer\n",
        "    attn_drop_rate = 0 # Dropout after Swin-Attention\n",
        "    proj_drop_rate = 0 # Dropout at the end of each Swin-Attention block, i.e., after linear projections\n",
        "    drop_path_rate = 0 # Drop-path within skip-connections\n",
        "    \n",
        "    qkv_bias = True # Convert embedded patches to query, key, and values with a learnable additive value\n",
        "    qk_scale = None # None: Re-scale query based on embed dimensions per attention head # Float for user specified scaling factor\n",
        "    \n",
        "    if shift_window:\n",
        "        shift_size = window_size // 2\n",
        "    else:\n",
        "        shift_size = 0\n",
        "    \n",
        "    for i in range(stack_num):\n",
        "    \n",
        "        if i % 2 == 0:\n",
        "            shift_size_temp = 0\n",
        "        else:\n",
        "            shift_size_temp = shift_size\n",
        "\n",
        "        X = swin_layers.SwinTransformerBlock(dim=embed_dim, \n",
        "                                             num_patch=num_patch, \n",
        "                                             num_heads=num_heads, \n",
        "                                             window_size=window_size, \n",
        "                                             shift_size=shift_size_temp, \n",
        "                                             num_mlp=num_mlp, \n",
        "                                             qkv_bias=qkv_bias, \n",
        "                                             qk_scale=qk_scale,\n",
        "                                             mlp_drop=mlp_drop_rate, \n",
        "                                             attn_drop=attn_drop_rate, \n",
        "                                             proj_drop=proj_drop_rate, \n",
        "                                             drop_path_prob=drop_path_rate, \n",
        "                                             name='name{}'.format(i))(X)\n",
        "    return X\n",
        "\n",
        "def swin_unet_2d_base(input_tensor, filter_num_begin, depth, stack_num_down, stack_num_up, \n",
        "                      patch_size, num_heads, window_size, num_mlp, shift_window=True, name='swin_unet'):\n",
        "\n",
        "    # Compute number be patches to be embeded\n",
        "    input_size = input_tensor.shape.as_list()[1:]\n",
        "    num_patch_x = input_size[0]//patch_size[0]\n",
        "    num_patch_y = input_size[1]//patch_size[1]\n",
        "    \n",
        "    # Number of Embedded dimensions\n",
        "    embed_dim = filter_num_begin\n",
        "    \n",
        "    depth_ = depth\n",
        "    \n",
        "    X_skip = []\n",
        "\n",
        "    X = input_tensor\n",
        "    \n",
        "    # Patch extraction\n",
        "    X = transformer_layers.patch_extract(patch_size)(X)\n",
        "\n",
        "    # Embed patches to tokens\n",
        "    X = transformer_layers.patch_embedding(num_patch_x*num_patch_y, embed_dim)(X)\n",
        "    \n",
        "    # The first Swin Transformer stack\n",
        "    X = swin_transformer_stack(X, \n",
        "                               stack_num=stack_num_down, \n",
        "                               embed_dim=embed_dim, \n",
        "                               num_patch=(num_patch_x, num_patch_y), \n",
        "                               num_heads=num_heads[0], \n",
        "                               window_size=window_size[0], \n",
        "                               num_mlp=num_mlp, \n",
        "                               shift_window=shift_window, \n",
        "                               name='{}_swin_down0'.format(name))\n",
        "    X_skip.append(X)\n",
        "    \n",
        "    # Downsampling blocks\n",
        "    for i in range(depth_-1):\n",
        "        \n",
        "        # Patch merging\n",
        "        X = transformer_layers.patch_merging((num_patch_x, num_patch_y), embed_dim=embed_dim, name='down{}'.format(i))(X)\n",
        "        \n",
        "        # update token shape info\n",
        "        embed_dim = embed_dim*2\n",
        "        num_patch_x = num_patch_x//2\n",
        "        num_patch_y = num_patch_y//2\n",
        "        \n",
        "        # Swin Transformer stacks\n",
        "        X = swin_transformer_stack(X, \n",
        "                                   stack_num=stack_num_down, \n",
        "                                   embed_dim=embed_dim, \n",
        "                                   num_patch=(num_patch_x, num_patch_y), \n",
        "                                   num_heads=num_heads[i+1], \n",
        "                                   window_size=window_size[i+1], \n",
        "                                   num_mlp=num_mlp, \n",
        "                                   shift_window=shift_window, \n",
        "                                   name='{}_swin_down{}'.format(name, i+1))\n",
        "        \n",
        "        # Store tensors for concat\n",
        "        X_skip.append(X)\n",
        "        \n",
        "    # reverse indexing encoded tensors and hyperparams\n",
        "    X_skip = X_skip[::-1]\n",
        "    num_heads = num_heads[::-1]\n",
        "    window_size = window_size[::-1]\n",
        "    \n",
        "    # upsampling begins at the deepest available tensor\n",
        "    X = X_skip[0]\n",
        "    \n",
        "    # other tensors are preserved for concatenation\n",
        "    X_decode = X_skip[1:]\n",
        "    \n",
        "    depth_decode = len(X_decode)\n",
        "    \n",
        "    for i in range(depth_decode):\n",
        "        \n",
        "        # Patch expanding\n",
        "        X = transformer_layers.patch_expanding(num_patch=(num_patch_x, num_patch_y), \n",
        "                                               embed_dim=embed_dim, \n",
        "                                               upsample_rate=2, \n",
        "                                               return_vector=True)(X)\n",
        "        \n",
        "\n",
        "        # update token shape info\n",
        "        embed_dim = embed_dim//2\n",
        "        num_patch_x = num_patch_x*2\n",
        "        num_patch_y = num_patch_y*2\n",
        "        \n",
        "        # Concatenation and linear projection\n",
        "        X = concatenate([X, X_decode[i]], axis=-1, name='{}_concat_{}'.format(name, i))\n",
        "        X = Dense(embed_dim, use_bias=False, name='{}_concat_linear_proj_{}'.format(name, i))(X)\n",
        "        \n",
        "        # Swin Transformer stacks\n",
        "        X = swin_transformer_stack(X, \n",
        "                                   stack_num=stack_num_up, \n",
        "                                   embed_dim=embed_dim, \n",
        "                                   num_patch=(num_patch_x, num_patch_y), \n",
        "                                   num_heads=num_heads[i], \n",
        "                                   window_size=window_size[i], \n",
        "                                   num_mlp=num_mlp, \n",
        "                                   shift_window=shift_window, \n",
        "                                   name='{}_swin_up{}'.format(name, i))\n",
        "        \n",
        "    # The last expanding layer; it produces full-size feature maps based on the patch size\n",
        "    # !!! <--- \"patch_size[0]\" is used; it assumes patch_size = (size, size)\n",
        "    \n",
        "    X = transformer_layers.patch_expanding(num_patch=(num_patch_x, num_patch_y), \n",
        "                                           embed_dim=embed_dim, \n",
        "                                           upsample_rate=patch_size[0], \n",
        "                                           return_vector=False)(X)\n",
        "    \n",
        "    return X\n",
        "\n",
        "#hyperparameters\n",
        "filter_num_begin = 128     # number of channels in the first downsampling block; it is also the number of embedded dimensions\n",
        "depth = 4                  # the depth of SwinUNET; depth=4 means three down/upsampling levels and a bottom level \n",
        "stack_num_down = 2         # number of Swin Transformers per downsampling level\n",
        "stack_num_up = 2           # number of Swin Transformers per upsampling level\n",
        "patch_size = (4, 4)        # Extract 4-by-4 patches from the input image. Height and width of the patch must be equal.\n",
        "num_heads = [4, 8, 8, 8]   # number of attention heads per down/upsampling level\n",
        "window_size = [4, 2, 2, 2] # the size of attention window per down/upsampling level\n",
        "num_mlp = 512              # number of MLP nodes within the Transformer\n",
        "shift_window=True          # Apply window shifting, i.e., Swin-MSA\n",
        "\n",
        "input_size = (256,256,1)\n",
        "IN = Input(input_size)\n",
        "\n",
        "# Base architecture\n",
        "X = swin_unet_2d_base(IN, filter_num_begin, depth, stack_num_down, stack_num_up, \n",
        "                      patch_size, num_heads, window_size, num_mlp, \n",
        "                      shift_window=shift_window, name='swin_unet')\n",
        "\n",
        "# Output section\n",
        "n_labels = 1\n",
        "OUT = Conv2D(n_labels, kernel_size=1, use_bias=False, activation='sigmoid')(X)\n",
        "\n",
        "# Model configuration\n",
        "model = keras.models.Model(inputs=[IN,], outputs=[OUT,])\n",
        "\n",
        "model.summary()\n",
        "\n",
        "opt = keras.optimizers.Adam(learning_rate=1e-4, clipvalue=0.5)\n",
        "#model.compile(loss=dice_coef_loss,\n",
        "#              optimizer=opt,\n",
        "#              metrics=[tf.keras.metrics.Accuracy(),tf.keras.metrics.BinaryIoU(),tf.metrics.Precision(),tf.keras.metrics.Recall()])\n",
        "#keras.losses.BinaryCrossentropy()\n",
        "\n",
        "model.load_weights('/content/drive/MyDrive/439D PROJECT/swin_transformer_model')\n",
        "\n",
        "model.compile(loss=iou_loss,\n",
        "              optimizer=opt,\n",
        "              metrics=[accuracy,tf.keras.metrics.BinaryIoU(target_class_ids=[1]),precision,recall,F1_score])\n"
      ],
      "metadata": {
        "colab": {
          "base_uri": "https://localhost:8080/"
        },
        "id": "xPcYAlCEzeCE",
        "outputId": "404c531f-14fd-4bc4-e0cb-1c158c6219a4"
      },
      "execution_count": null,
      "outputs": [
        {
          "output_type": "stream",
          "name": "stdout",
          "text": [
            "\n",
            "\n",
            "\n",
            "\n",
            "Model: \"model\"\n",
            "__________________________________________________________________________________________________\n",
            " Layer (type)                   Output Shape         Param #     Connected to                     \n",
            "==================================================================================================\n",
            " input_1 (InputLayer)           [(None, 256, 256, 1  0           []                               \n",
            "                                )]                                                                \n",
            "                                                                                                  \n",
            " patch_extract (patch_extract)  (None, 4096, 16)     0           ['input_1[0][0]']                \n",
            "                                                                                                  \n",
            " patch_embedding (patch_embeddi  (None, 4096, 128)   526464      ['patch_extract[0][0]']          \n",
            " ng)                                                                                              \n",
            "                                                                                                  \n",
            " swin_transformer_block (SwinTr  (None, 4096, 128)   198724      ['patch_embedding[0][0]']        \n",
            " ansformerBlock)                                                                                  \n",
            "                                                                                                  \n",
            " swin_transformer_block_1 (Swin  (None, 4096, 128)   264260      ['swin_transformer_block[0][0]'] \n",
            " TransformerBlock)                                                                                \n",
            "                                                                                                  \n",
            " patch_merging (patch_merging)  (None, 1024, 256)    131072      ['swin_transformer_block_1[0][0]'\n",
            "                                                                 ]                                \n",
            "                                                                                                  \n",
            " swin_transformer_block_2 (Swin  (None, 1024, 256)   527192      ['patch_merging[0][0]']          \n",
            " TransformerBlock)                                                                                \n",
            "                                                                                                  \n",
            " swin_transformer_block_3 (Swin  (None, 1024, 256)   531288      ['swin_transformer_block_2[0][0]'\n",
            " TransformerBlock)                                               ]                                \n",
            "                                                                                                  \n",
            " patch_merging_1 (patch_merging  (None, 256, 512)    524288      ['swin_transformer_block_3[0][0]'\n",
            " )                                                               ]                                \n",
            "                                                                                                  \n",
            " swin_transformer_block_4 (Swin  (None, 256, 512)    1578072     ['patch_merging_1[0][0]']        \n",
            " TransformerBlock)                                                                                \n",
            "                                                                                                  \n",
            " swin_transformer_block_5 (Swin  (None, 256, 512)    1579096     ['swin_transformer_block_4[0][0]'\n",
            " TransformerBlock)                                               ]                                \n",
            "                                                                                                  \n",
            " patch_merging_2 (patch_merging  (None, 64, 1024)    2097152     ['swin_transformer_block_5[0][0]'\n",
            " )                                                               ]                                \n",
            "                                                                                                  \n",
            " swin_transformer_block_6 (Swin  (None, 64, 1024)    5252696     ['patch_merging_2[0][0]']        \n",
            " TransformerBlock)                                                                                \n",
            "                                                                                                  \n",
            " swin_transformer_block_7 (Swin  (None, 64, 1024)    5252952     ['swin_transformer_block_6[0][0]'\n",
            " TransformerBlock)                                               ]                                \n",
            "                                                                                                  \n",
            " patch_expanding (patch_expandi  (None, 256, 512)    2097152     ['swin_transformer_block_7[0][0]'\n",
            " ng)                                                             ]                                \n",
            "                                                                                                  \n",
            " swin_unet_concat_0 (Concatenat  (None, 256, 1024)   0           ['patch_expanding[0][0]',        \n",
            " e)                                                               'swin_transformer_block_5[0][0]'\n",
            "                                                                 ]                                \n",
            "                                                                                                  \n",
            " swin_unet_concat_linear_proj_0  (None, 256, 512)    524288      ['swin_unet_concat_0[0][0]']     \n",
            "  (Dense)                                                                                         \n",
            "                                                                                                  \n",
            " swin_transformer_block_8 (Swin  (None, 256, 512)    1578072     ['swin_unet_concat_linear_proj_0[\n",
            " TransformerBlock)                                               0][0]']                          \n",
            "                                                                                                  \n",
            " swin_transformer_block_9 (Swin  (None, 256, 512)    1579096     ['swin_transformer_block_8[0][0]'\n",
            " TransformerBlock)                                               ]                                \n",
            "                                                                                                  \n",
            " patch_expanding_1 (patch_expan  (None, 1024, 256)   524288      ['swin_transformer_block_9[0][0]'\n",
            " ding)                                                           ]                                \n",
            "                                                                                                  \n",
            " swin_unet_concat_1 (Concatenat  (None, 1024, 512)   0           ['patch_expanding_1[0][0]',      \n",
            " e)                                                               'swin_transformer_block_3[0][0]'\n",
            "                                                                 ]                                \n",
            "                                                                                                  \n",
            " swin_unet_concat_linear_proj_1  (None, 1024, 256)   131072      ['swin_unet_concat_1[0][0]']     \n",
            "  (Dense)                                                                                         \n",
            "                                                                                                  \n",
            " swin_transformer_block_10 (Swi  (None, 1024, 256)   527192      ['swin_unet_concat_linear_proj_1[\n",
            " nTransformerBlock)                                              0][0]']                          \n",
            "                                                                                                  \n",
            " swin_transformer_block_11 (Swi  (None, 1024, 256)   531288      ['swin_transformer_block_10[0][0]\n",
            " nTransformerBlock)                                              ']                               \n",
            "                                                                                                  \n",
            " patch_expanding_2 (patch_expan  (None, 4096, 128)   131072      ['swin_transformer_block_11[0][0]\n",
            " ding)                                                           ']                               \n",
            "                                                                                                  \n",
            " swin_unet_concat_2 (Concatenat  (None, 4096, 256)   0           ['patch_expanding_2[0][0]',      \n",
            " e)                                                               'swin_transformer_block_1[0][0]'\n",
            "                                                                 ]                                \n",
            "                                                                                                  \n",
            " swin_unet_concat_linear_proj_2  (None, 4096, 128)   32768       ['swin_unet_concat_2[0][0]']     \n",
            "  (Dense)                                                                                         \n",
            "                                                                                                  \n",
            " swin_transformer_block_12 (Swi  (None, 4096, 128)   198360      ['swin_unet_concat_linear_proj_2[\n",
            " nTransformerBlock)                                              0][0]']                          \n",
            "                                                                                                  \n",
            " swin_transformer_block_13 (Swi  (None, 4096, 128)   214744      ['swin_transformer_block_12[0][0]\n",
            " nTransformerBlock)                                              ']                               \n",
            "                                                                                                  \n",
            " patch_expanding_3 (patch_expan  (None, 256, 256, 32  65536      ['swin_transformer_block_13[0][0]\n",
            " ding)                          )                                ']                               \n",
            "                                                                                                  \n",
            " conv2d (Conv2D)                (None, 256, 256, 1)  32          ['patch_expanding_3[0][0]']      \n",
            "                                                                                                  \n",
            "==================================================================================================\n",
            "Total params: 26,598,216\n",
            "Trainable params: 26,505,096\n",
            "Non-trainable params: 93,120\n",
            "__________________________________________________________________________________________________\n"
          ]
        }
      ]
    },
    {
      "cell_type": "code",
      "execution_count": null,
      "metadata": {
        "id": "m1rfsiJB1IMA"
      },
      "outputs": [],
      "source": [
        "def accuracy(y_true,y_pred):\n",
        "  accuracy = K.sum(tf.cast((y_true==y_pred),tf.float32))/tf.cast(K.prod(K.shape(y_true)),tf.float32)\n",
        "  return accuracy\n",
        "\n",
        "def IoU(y_true,y_pred):\n",
        "  true_pos = K.sum(K.round(K.clip(y_true*y_pred,0,1)))\n",
        "  #print(\"True pos: \", true_pos)\n",
        "  total_pos = K.sum(K.round(K.clip(y_pred,0,1)))\n",
        "  #print(\"total pos: \", total_pos)\n",
        "  ground_pos = K.sum(y_true)\n",
        "  #print(\"ground truth positive:\",ground_pos)\n",
        "  false_pos = total_pos - true_pos\n",
        "  #print(\"false pos\", false_pos)\n",
        "  false_neg = ground_pos - true_pos\n",
        "  #print(\"false neg\", false_neg)\n",
        "  IoU = (true_pos)/(true_pos + false_pos + false_neg + K.epsilon())\n",
        "  return IoU\n",
        "\n",
        "def precision(y_true,y_pred):\n",
        "  true_pos = K.sum(K.round(K.clip(y_true*y_pred,0,1)))\n",
        "  total_pos = K.sum(K.round(K.clip(y_pred,0,1)))\n",
        "  precision = true_pos/(total_pos + K.epsilon())\n",
        "  return precision\n",
        "\n",
        "def recall(y_true,y_pred):\n",
        "  true_pos = K.sum(K.round(K.clip(tf.cast(y_true,tf.float32)*y_pred,0,1)))\n",
        "  ground_pos = K.sum(y_true)\n",
        "  recall = true_pos/(ground_pos + K.epsilon())\n",
        "  return recall\n",
        "\n",
        "def F1_score(y_true,y_pred):\n",
        "  prec = precision(y_true,y_pred)\n",
        "  rec = recall(y_true,y_pred)\n",
        "  F1_score = (2*prec*rec)/(prec+rec + K.epsilon())\n",
        "  return F1_score\n",
        "\n",
        "  def class_weight(labels):\n",
        "    building_ratio = sum(sum(sum(labels)))/(labels.shape[0]*256*256)\n",
        "    return building_ratio\n",
        "\n",
        "\n",
        "def dice_coef(y_true, y_pred):\n",
        "  smooth = 1\n",
        "  y_true_f = K.flatten(y_true)\n",
        "  y_pred_f = K.flatten(y_pred)\n",
        "  intersection = K.sum(tf.cast(y_true_f,tf.float32)* y_pred_f)\n",
        "  return (2. * intersection + smooth) / (K.sum(tf.cast(y_true_f,tf.float32)) + K.sum(y_pred_f) + smooth)\n",
        "    \n",
        "    \n",
        "def dice_coef_loss(y_true, y_pred):\n",
        "  return 1 - dice_coef(y_true, y_pred)\n",
        "\n",
        "def compound_loss(y_true,y_pred):\n",
        "  return 0.9*dice_coef_loss(y_true,y_pred)+ 0.1*K.binary_crossentropy(y_true, y_pred)\n",
        "\n",
        "def weighted_bce(y_true,y_pred):\n",
        "  num_pred = K.sum(K.cast(y_pred < 0.5, y_true.dtype)) + K.sum(y_true)    \n",
        "  zero_weight =  K.sum(y_true)/ num_pred +  K.epsilon() \n",
        "  one_weight = K.sum(K.cast(y_pred < 0.5, y_true.dtype)) / num_pred +  K.epsilon()\n",
        "  weights =  (1.0 - y_true) * zero_weight +  y_true * one_weight \n",
        "  bin_crossentropy = K.binary_crossentropy(y_true, y_pred)\n",
        "  weighted_bin_crossentropy = weights * bin_crossentropy \n",
        "  return K.mean(weighted_bin_crossentropy)"
      ]
    },
    {
      "cell_type": "code",
      "source": [
        "custom_objects = {\"precision\": precision, \"recall\": recall, \"F1_score\": F1_score, \"compound_loss\": compound_loss, \"dice_coef\": dice_coef, \"dice_coef_loss\": dice_coef_loss}\n",
        "unet = tf.keras.models.load_model('/content/drive/MyDrive/439D PROJECT/unet_model', custom_objects = custom_objects)"
      ],
      "metadata": {
        "id": "xxUpT4mJ5TOO"
      },
      "execution_count": null,
      "outputs": []
    },
    {
      "cell_type": "code",
      "source": [
        "labels = np.load('/content/drive/MyDrive/439D PROJECT/processed data/labels_final.npy')\n",
        "imgs = np.load('/content/drive/MyDrive/439D PROJECT/processed data/imgs_final.npy')"
      ],
      "metadata": {
        "id": "MY40eoCh7MiG"
      },
      "execution_count": null,
      "outputs": []
    },
    {
      "cell_type": "code",
      "source": [
        "test_img = imgs[file_num]/255.0\n",
        "show(imgs[file_num])\n",
        "\n",
        "swin_predict = model.predict(np.array([test_img]))\n",
        "label_predict = unet.predict(np.array([test_img]))\n",
        "print(\"UNET prediction:\")\n",
        "unet_prediction_image = 255*np.round(label_predict[0],0)\n",
        "show(unet_prediction_image)\n",
        "print(\"Swin prediction:\")\n",
        "swin_prediction_image = 255*np.round(swin_predict[0],0)\n",
        "show(swin_prediction_image)\n",
        "print(\"Label: \")\n",
        "show(255*labels[file_num])\n",
        "\n",
        "UNET_IoU = tf.keras.metrics.BinaryIoU(target_class_ids=[1])\n",
        "UNET_IoU.update_state(labels[file_num], label_predict[0])\n",
        "\n",
        "SWIN_IoU = tf.keras.metrics.BinaryIoU(target_class_ids=[1])\n",
        "SWIN_IoU.update_state(labels[file_num], swin_predict[0])\n",
        "print(\"IoU UNET: \", UNET_IoU.result().numpy())\n",
        "\n",
        "print(\"IoU SWIN: \", SWIN_IoU.result().numpy())"
      ],
      "metadata": {
        "colab": {
          "base_uri": "https://localhost:8080/",
          "height": 1000
        },
        "id": "H5LCRM1b8n5L",
        "outputId": "5d21d209-717a-4a57-ad79-2fef84208b5b"
      },
      "execution_count": null,
      "outputs": [
        {
          "output_type": "display_data",
          "data": {
            "text/plain": [
              "<PIL.Image.Image image mode=L size=256x256 at 0x7F2F14759570>"
            ],
            "image/png": "[encoded data removed]"
          },
          "metadata": {}
        },
        {
          "output_type": "stream",
          "name": "stdout",
          "text": [
            "1/1 [==============================] - 0s 285ms/step\n",
            "1/1 [==============================] - 1s 548ms/step\n",
            "UNET prediction:\n"
          ]
        },
        {
          "output_type": "display_data",
          "data": {
            "text/plain": [
              "<PIL.Image.Image image mode=RGB size=256x256 at 0x7F2F0E739D50>"
            ],
            "image/png": "[encoded data removed]"
          },
          "metadata": {}
        },
        {
          "output_type": "stream",
          "name": "stdout",
          "text": [
            "Swin prediction:\n"
          ]
        },
        {
          "output_type": "display_data",
          "data": {
            "text/plain": [
              "<PIL.Image.Image image mode=RGB size=256x256 at 0x7F2F0E739D50>"
            ],
            "image/png": "[encoded data removed]"
          },
          "metadata": {}
        },
        {
          "output_type": "stream",
          "name": "stdout",
          "text": [
            "Label: \n"
          ]
        },
        {
          "output_type": "display_data",
          "data": {
            "text/plain": [
              "<PIL.Image.Image image mode=L size=256x256 at 0x7F2F14562E00>"
            ],
            "image/png": "[encoded data removed]"
          },
          "metadata": {}
        },
        {
          "output_type": "stream",
          "name": "stdout",
          "text": [
            "IoU UNET:  0.7182964\n",
            "IoU SWIN:  0.6619045\n"
          ]
        }
      ]
    },
    {
      "cell_type": "code",
      "source": [],
      "metadata": {
        "id": "YC0uuyjJeDgN"
      },
      "execution_count": null,
      "outputs": []
    }
  ]
}